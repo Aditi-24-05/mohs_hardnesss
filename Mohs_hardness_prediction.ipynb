{
  "metadata": {
    "kernelspec": {
      "language": "python",
      "display_name": "Python 3",
      "name": "python3"
    },
    "language_info": {
      "name": "python",
      "version": "3.10.13",
      "mimetype": "text/x-python",
      "codemirror_mode": {
        "name": "ipython",
        "version": 3
      },
      "pygments_lexer": "ipython3",
      "nbconvert_exporter": "python",
      "file_extension": ".py"
    },
    "kaggle": {
      "accelerator": "none",
      "dataSources": [
        {
          "sourceId": 60892,
          "databundleVersionId": 6989718,
          "sourceType": "competition"
        },
        {
          "sourceId": 6612067,
          "sourceType": "datasetVersion",
          "datasetId": 3815527
        }
      ],
      "dockerImageVersionId": 30646,
      "isInternetEnabled": true,
      "language": "python",
      "sourceType": "notebook",
      "isGpuEnabled": false
    },
    "colab": {
      "name": "Mohs hardness prediction",
      "provenance": [],
      "include_colab_link": true
    }
  },
  "nbformat_minor": 0,
  "nbformat": 4,
  "cells": [
    {
      "cell_type": "markdown",
      "metadata": {
        "id": "view-in-github",
        "colab_type": "text"
      },
      "source": [
        "<a href=\"https://colab.research.google.com/github/Aditi-24-05/mohs_hardnesss/blob/main/Mohs_hardness_prediction.ipynb\" target=\"_parent\"><img src=\"https://colab.research.google.com/assets/colab-badge.svg\" alt=\"Open In Colab\"/></a>"
      ]
    },
    {
      "source": [
        "\n",
        "# IMPORTANT: RUN THIS CELL IN ORDER TO IMPORT YOUR KAGGLE DATA SOURCES\n",
        "# TO THE CORRECT LOCATION (/kaggle/input) IN YOUR NOTEBOOK,\n",
        "# THEN FEEL FREE TO DELETE THIS CELL.\n",
        "# NOTE: THIS NOTEBOOK ENVIRONMENT DIFFERS FROM KAGGLE'S PYTHON\n",
        "# ENVIRONMENT SO THERE MAY BE MISSING LIBRARIES USED BY YOUR\n",
        "# NOTEBOOK.\n",
        "\n",
        "import os\n",
        "import sys\n",
        "from tempfile import NamedTemporaryFile\n",
        "from urllib.request import urlopen\n",
        "from urllib.parse import unquote, urlparse\n",
        "from urllib.error import HTTPError\n",
        "from zipfile import ZipFile\n",
        "import tarfile\n",
        "import shutil\n",
        "\n",
        "CHUNK_SIZE = 40960\n",
        "DATA_SOURCE_MAPPING = 'playground-series-s3e25:https%3A%2F%2Fstorage.googleapis.com%2Fkaggle-competitions-data%2Fkaggle-v2%2F60892%2F6989718%2Fbundle%2Farchive.zip%3FX-Goog-Algorithm%3DGOOG4-RSA-SHA256%26X-Goog-Credential%3Dgcp-kaggle-com%2540kaggle-161607.iam.gserviceaccount.com%252F20240222%252Fauto%252Fstorage%252Fgoog4_request%26X-Goog-Date%3D20240222T193346Z%26X-Goog-Expires%3D259200%26X-Goog-SignedHeaders%3Dhost%26X-Goog-Signature%3D9cf0e3430a0be8f765fc7e8f89d2727083ebd6a4c2ae6315fff5f37e4b36010ed5a2d7d38ff58e9dedc971aebf21400d1c6dd945300ec9fe5a59037c281779e8160747471b28c69de1b2bc33789abb8498817a005b9ed1a8c82d43a5e456c1e20d10b1fc1a4f207c643b8ebdbb5c5e7f57b9cb53ac8530733b22547036baf35b7af3a09c5f0e4a876c3158655212038c189b6dbce0104d16ce8b18fa563965c74c42ad4aadd345a03502b57622bb77aedaeed48af1bc5d752b768b403e54a3b8adbcaeb9181877477bbc62c3fb304b872a90a61049e9fa5f66a22fa959eb1e132d75f17d506e6a62269164aa8bc8296decbeda8917d5fe3196c1dc603773090d,prediction-of-mohs-hardness-with-machine-learning:https%3A%2F%2Fstorage.googleapis.com%2Fkaggle-data-sets%2F3815527%2F6612067%2Fbundle%2Farchive.zip%3FX-Goog-Algorithm%3DGOOG4-RSA-SHA256%26X-Goog-Credential%3Dgcp-kaggle-com%2540kaggle-161607.iam.gserviceaccount.com%252F20240222%252Fauto%252Fstorage%252Fgoog4_request%26X-Goog-Date%3D20240222T193346Z%26X-Goog-Expires%3D259200%26X-Goog-SignedHeaders%3Dhost%26X-Goog-Signature%3D0795df1aed09009573075ae0f1f44e1e2189f194189585e7ee6c849aca2ec5e179dfe578825f8931da8fdfa085befcf2788b68b2eebfd7a3a7730e13a52e0222c0592fac9d99e26f3a56bcc1763c61fc03c59529c2fc83bb94ed22ac87cf72c2979976aaecc36cb368309f9672d9c41e3aeca6263a6b7040e3c01e4155b7aec20708e5c5dc9890c6ce58a28edf8704666e67dd2d8673a80028eda5c1eb76f846def029fd69fbef6933df0287169713814c4e669a3c68abe40c424bccab444cb89ad9d01dc2716ddfed135df55c144980ab7a78cd3db95a07c85b73a5f691eb82540ec9193084d9dfb2f105f565530a175410e462a0a4b3dc98d1800288c2688e'\n",
        "\n",
        "KAGGLE_INPUT_PATH='/kaggle/input'\n",
        "KAGGLE_WORKING_PATH='/kaggle/working'\n",
        "KAGGLE_SYMLINK='kaggle'\n",
        "\n",
        "!umount /kaggle/input/ 2> /dev/null\n",
        "shutil.rmtree('/kaggle/input', ignore_errors=True)\n",
        "os.makedirs(KAGGLE_INPUT_PATH, 0o777, exist_ok=True)\n",
        "os.makedirs(KAGGLE_WORKING_PATH, 0o777, exist_ok=True)\n",
        "\n",
        "try:\n",
        "  os.symlink(KAGGLE_INPUT_PATH, os.path.join(\"..\", 'input'), target_is_directory=True)\n",
        "except FileExistsError:\n",
        "  pass\n",
        "try:\n",
        "  os.symlink(KAGGLE_WORKING_PATH, os.path.join(\"..\", 'working'), target_is_directory=True)\n",
        "except FileExistsError:\n",
        "  pass\n",
        "\n",
        "for data_source_mapping in DATA_SOURCE_MAPPING.split(','):\n",
        "    directory, download_url_encoded = data_source_mapping.split(':')\n",
        "    download_url = unquote(download_url_encoded)\n",
        "    filename = urlparse(download_url).path\n",
        "    destination_path = os.path.join(KAGGLE_INPUT_PATH, directory)\n",
        "    try:\n",
        "        with urlopen(download_url) as fileres, NamedTemporaryFile() as tfile:\n",
        "            total_length = fileres.headers['content-length']\n",
        "            print(f'Downloading {directory}, {total_length} bytes compressed')\n",
        "            dl = 0\n",
        "            data = fileres.read(CHUNK_SIZE)\n",
        "            while len(data) > 0:\n",
        "                dl += len(data)\n",
        "                tfile.write(data)\n",
        "                done = int(50 * dl / int(total_length))\n",
        "                sys.stdout.write(f\"\\r[{'=' * done}{' ' * (50-done)}] {dl} bytes downloaded\")\n",
        "                sys.stdout.flush()\n",
        "                data = fileres.read(CHUNK_SIZE)\n",
        "            if filename.endswith('.zip'):\n",
        "              with ZipFile(tfile) as zfile:\n",
        "                zfile.extractall(destination_path)\n",
        "            else:\n",
        "              with tarfile.open(tfile.name) as tarfile:\n",
        "                tarfile.extractall(destination_path)\n",
        "            print(f'\\nDownloaded and uncompressed: {directory}')\n",
        "    except HTTPError as e:\n",
        "        print(f'Failed to load (likely expired) {download_url} to path {destination_path}')\n",
        "        continue\n",
        "    except OSError as e:\n",
        "        print(f'Failed to load {download_url} to path {destination_path}')\n",
        "        continue\n",
        "\n",
        "print('Data source import complete.')\n"
      ],
      "metadata": {
        "id": "9HvXRKH6UP9a"
      },
      "cell_type": "code",
      "outputs": [],
      "execution_count": null
    },
    {
      "cell_type": "code",
      "source": [
        "!pip install -q scikit-lego"
      ],
      "metadata": {
        "execution": {
          "iopub.status.busy": "2024-02-02T10:19:47.903512Z",
          "iopub.execute_input": "2024-02-02T10:19:47.904715Z",
          "iopub.status.idle": "2024-02-02T10:20:02.483751Z",
          "shell.execute_reply.started": "2024-02-02T10:19:47.904553Z",
          "shell.execute_reply": "2024-02-02T10:20:02.482153Z"
        },
        "trusted": true,
        "id": "MbjG_R82UP9f"
      },
      "execution_count": null,
      "outputs": []
    },
    {
      "cell_type": "markdown",
      "source": [
        "# **Import Packages**\n"
      ],
      "metadata": {
        "id": "NiHx0dKfUP9g"
      }
    },
    {
      "cell_type": "code",
      "source": [
        "import numpy as np\n",
        "import pandas as pd\n",
        "import matplotlib.pyplot as plt\n",
        "import seaborn as sns\n",
        "\n",
        "from sklearn.model_selection import KFold, StratifiedKFold\n",
        "from sklearn.ensemble import GradientBoostingRegressor\n",
        "from sklearn.ensemble import HistGradientBoostingRegressor, VotingRegressor\n",
        "from sklearn.metrics import median_absolute_error, roc_auc_score, roc_curve\n",
        "from sklearn.metrics.pairwise import euclidean_distances\n",
        "from sklearn.pipeline import make_pipeline\n",
        "from sklearn.base import BaseEstimator, TransformerMixin, RegressorMixin, clone\n",
        "from sklearn.preprocessing import FunctionTransformer, StandardScaler, PowerTransformer\n",
        "from sklearn.linear_model import QuantileRegressor\n",
        "from xgboost import XGBRegressor, XGBClassifier\n",
        "from lightgbm import LGBMRegressor\n",
        "from catboost import CatBoostRegressor\n",
        "from sklearn.linear_model import LinearRegression\n",
        "from sklego.linear_model import LADRegression"
      ],
      "metadata": {
        "execution": {
          "iopub.status.busy": "2024-02-02T10:20:02.486481Z",
          "iopub.execute_input": "2024-02-02T10:20:02.486852Z",
          "iopub.status.idle": "2024-02-02T10:20:02.496855Z",
          "shell.execute_reply.started": "2024-02-02T10:20:02.486817Z",
          "shell.execute_reply": "2024-02-02T10:20:02.495945Z"
        },
        "trusted": true,
        "id": "z_0eGVtxUP9j"
      },
      "execution_count": null,
      "outputs": []
    },
    {
      "cell_type": "markdown",
      "source": [
        "# **Import data**"
      ],
      "metadata": {
        "id": "uHtNQ7WQUP9j"
      }
    },
    {
      "cell_type": "code",
      "source": [
        "train=pd.read_csv(\"/kaggle/input/playground-series-s3e25/train.csv\",index_col='id')\n",
        "data=pd.read_csv(\"/kaggle/input/prediction-of-mohs-hardness-with-machine-learning/jm79zfps6b-1/Mineral_Dataset_Supplementary_Info.csv\", index_col=0)\n",
        "test=pd.read_csv(\"/kaggle/input/playground-series-s3e25/test.csv\", index_col='id')"
      ],
      "metadata": {
        "execution": {
          "iopub.status.busy": "2024-02-02T10:20:02.498474Z",
          "iopub.execute_input": "2024-02-02T10:20:02.499231Z",
          "iopub.status.idle": "2024-02-02T10:20:02.57978Z",
          "shell.execute_reply.started": "2024-02-02T10:20:02.499198Z",
          "shell.execute_reply": "2024-02-02T10:20:02.578622Z"
        },
        "trusted": true,
        "id": "ltm9y0wxUP9k"
      },
      "execution_count": null,
      "outputs": []
    },
    {
      "cell_type": "markdown",
      "source": [
        "# **Dataset Information**"
      ],
      "metadata": {
        "id": "7HWkYLGmUP9k"
      }
    },
    {
      "cell_type": "code",
      "source": [
        "test.head()"
      ],
      "metadata": {
        "execution": {
          "iopub.status.busy": "2024-02-02T10:20:02.582344Z",
          "iopub.execute_input": "2024-02-02T10:20:02.582667Z",
          "iopub.status.idle": "2024-02-02T10:20:02.606383Z",
          "shell.execute_reply.started": "2024-02-02T10:20:02.582639Z",
          "shell.execute_reply": "2024-02-02T10:20:02.605126Z"
        },
        "trusted": true,
        "id": "D_dRbsPsUP9l"
      },
      "execution_count": null,
      "outputs": []
    },
    {
      "cell_type": "code",
      "source": [
        "train.head()"
      ],
      "metadata": {
        "execution": {
          "iopub.status.busy": "2024-02-02T10:20:02.607905Z",
          "iopub.execute_input": "2024-02-02T10:20:02.608248Z",
          "iopub.status.idle": "2024-02-02T10:20:02.633561Z",
          "shell.execute_reply.started": "2024-02-02T10:20:02.608219Z",
          "shell.execute_reply": "2024-02-02T10:20:02.632583Z"
        },
        "trusted": true,
        "id": "ZN6eFkChUP9l"
      },
      "execution_count": null,
      "outputs": []
    },
    {
      "cell_type": "code",
      "source": [
        "data.head()"
      ],
      "metadata": {
        "execution": {
          "iopub.status.busy": "2024-02-02T10:20:02.634751Z",
          "iopub.execute_input": "2024-02-02T10:20:02.635091Z",
          "iopub.status.idle": "2024-02-02T10:20:02.654474Z",
          "shell.execute_reply.started": "2024-02-02T10:20:02.63506Z",
          "shell.execute_reply": "2024-02-02T10:20:02.653318Z"
        },
        "trusted": true,
        "id": "pPMQ1SgWUP9m"
      },
      "execution_count": null,
      "outputs": []
    },
    {
      "cell_type": "markdown",
      "source": [
        "# **Adversarial Validation**"
      ],
      "metadata": {
        "id": "rgsRnvutUP9n"
      }
    },
    {
      "cell_type": "code",
      "source": [
        "def adversarial_validation(dataset_1=train, dataset_2=test, label='Train-Test'):\n",
        "\n",
        "    adv_train = dataset_1.drop('Hardness', axis=1)\n",
        "    adv_test = dataset_2.copy()\n",
        "\n",
        "    adv_train['is_test'] = 0\n",
        "    adv_test['is_test'] = 1\n",
        "\n",
        "    adv = pd.concat([adv_train, adv_test], ignore_index=True)\n",
        "\n",
        "    adv_shuffled = adv.sample(frac=1)\n",
        "\n",
        "    adv_X = adv_shuffled.drop('is_test', axis=1)\n",
        "    adv_y = adv_shuffled.is_test\n",
        "\n",
        "    skf = StratifiedKFold(n_splits=5, random_state=42, shuffle=True)\n",
        "\n",
        "    val_scores = []\n",
        "    predictions = np.zeros(len(adv))\n",
        "\n",
        "    for fold, (train_idx, val_idx) in enumerate(skf.split(adv_X, adv_y)):\n",
        "\n",
        "        adv_lr = XGBClassifier(random_state=42)\n",
        "        adv_lr.fit(adv_X.iloc[train_idx], adv_y.iloc[train_idx])\n",
        "\n",
        "        val_preds = adv_lr.predict_proba(adv_X.iloc[val_idx])[:, 1]\n",
        "        predictions[val_idx] = val_preds\n",
        "        val_score = roc_auc_score(adv_y.iloc[val_idx], val_preds)\n",
        "        val_scores.append(val_score)\n",
        "\n",
        "    fpr, tpr, _ = roc_curve(adv['is_test'], predictions)\n",
        "\n",
        "    plt.figure(figsize=(15, 5))\n",
        "\n",
        "    # ROC Curve Plot\n",
        "    plt.subplot(1, 2, 1)\n",
        "    sns.lineplot(x=[0, 1], y=[0, 1], linestyle=\"--\", label=\"Indistinguishable Datasets\")\n",
        "    sns.lineplot(x=fpr, y=tpr, label=\"Adversarial Validation Classifier\")\n",
        "    plt.title(f'{label} ROC Curve\\nValidation AUC = {np.mean(val_scores):.5f}', weight='bold', size=12)\n",
        "    plt.xlabel('False Positive Rate')\n",
        "    plt.ylabel('True Positive Rate')\n",
        "\n",
        "    # Distribution Plot\n",
        "    plt.subplot(1, 2, 2)\n",
        "    sns.kdeplot(predictions[adv['is_test'] == 0], label='Train Set')\n",
        "    sns.kdeplot(predictions[adv['is_test'] == 1], label='Test Set')\n",
        "    plt.title(f'{label} Predicted Probabilities Distribution', weight='bold', size=12)\n",
        "    plt.xlabel('Predicted Probabilities')\n",
        "    plt.ylabel('Density')\n",
        "\n",
        "    plt.tight_layout()\n",
        "    plt.show()"
      ],
      "metadata": {
        "execution": {
          "iopub.status.busy": "2024-02-02T10:20:02.655716Z",
          "iopub.execute_input": "2024-02-02T10:20:02.656065Z",
          "iopub.status.idle": "2024-02-02T10:20:02.672974Z",
          "shell.execute_reply.started": "2024-02-02T10:20:02.656036Z",
          "shell.execute_reply": "2024-02-02T10:20:02.671831Z"
        },
        "trusted": true,
        "id": "bbfwMAfDUP9n"
      },
      "execution_count": null,
      "outputs": []
    },
    {
      "cell_type": "code",
      "source": [
        "adversarial_validation()"
      ],
      "metadata": {
        "execution": {
          "iopub.status.busy": "2024-02-02T10:20:02.674256Z",
          "iopub.execute_input": "2024-02-02T10:20:02.674558Z",
          "iopub.status.idle": "2024-02-02T10:22:04.886859Z",
          "shell.execute_reply.started": "2024-02-02T10:20:02.674532Z",
          "shell.execute_reply": "2024-02-02T10:22:04.885699Z"
        },
        "trusted": true,
        "id": "KB2mJesgUP9o"
      },
      "execution_count": null,
      "outputs": []
    },
    {
      "cell_type": "markdown",
      "source": [
        "# **Target Distribution**"
      ],
      "metadata": {
        "id": "TaKxv9hKUP9o"
      }
    },
    {
      "cell_type": "code",
      "source": [
        "plt.figure(figsize=(20, 10), dpi=300)\n",
        "\n",
        "# Plot KDE for 'Hardness' in the 'train' dataset\n",
        "sns.kdeplot(data=train, x='Hardness')\n",
        "\n",
        "# Plot KDE for 'Hardness' in the 'orig_train' dataset\n",
        "sns.kdeplot(data=data, x='Hardness')\n",
        "\n",
        "plt.title('Hardness Distribution', fontsize=24, fontweight='bold')\n",
        "plt.show()\n"
      ],
      "metadata": {
        "execution": {
          "iopub.status.busy": "2024-02-02T10:22:04.888256Z",
          "iopub.execute_input": "2024-02-02T10:22:04.888595Z",
          "iopub.status.idle": "2024-02-02T10:22:06.791575Z",
          "shell.execute_reply.started": "2024-02-02T10:22:04.888565Z",
          "shell.execute_reply": "2024-02-02T10:22:06.79055Z"
        },
        "trusted": true,
        "id": "IuFvCqO0UP9p"
      },
      "execution_count": null,
      "outputs": []
    },
    {
      "cell_type": "markdown",
      "source": [
        "# **Concatenation of training data and orignal data**"
      ],
      "metadata": {
        "id": "toidhLnmUP9p"
      }
    },
    {
      "cell_type": "code",
      "source": [
        "X = pd.concat([train, data]).reset_index(drop = True).drop_duplicates()\n",
        "y = X.pop('Hardness').reset_index(drop = True)\n",
        "\n",
        "seed = 42\n",
        "k = KFold(shuffle = True, random_state = seed)\n",
        "\n",
        "np.random.seed(seed)"
      ],
      "metadata": {
        "execution": {
          "iopub.status.busy": "2024-02-02T10:22:06.794872Z",
          "iopub.execute_input": "2024-02-02T10:22:06.795314Z",
          "iopub.status.idle": "2024-02-02T10:22:06.812512Z",
          "shell.execute_reply.started": "2024-02-02T10:22:06.795283Z",
          "shell.execute_reply": "2024-02-02T10:22:06.811342Z"
        },
        "trusted": true,
        "id": "zaVrzjG6UP9q"
      },
      "execution_count": null,
      "outputs": []
    },
    {
      "cell_type": "markdown",
      "source": [
        "# **Cross validation**"
      ],
      "metadata": {
        "id": "m3CNPmzyUP9q"
      }
    },
    {
      "cell_type": "code",
      "source": [
        "def cross_val_score(estimator, cv = k, label = '', include_original = True, no_duplicate = True):\n",
        "\n",
        "    X = train.copy()\n",
        "    y = X.pop('Hardness')\n",
        "\n",
        "    #initiate prediction arrays and score lists\n",
        "    val_predictions = np.zeros((len(train)))\n",
        "    #train_predictions = np.zeros((len(train)))\n",
        "    train_scores, val_scores = [], []\n",
        "\n",
        "    #training model, predicting prognosis probability, and evaluating log loss\n",
        "    for fold, (train_idx, val_idx) in enumerate(cv.split(X, y)):\n",
        "\n",
        "        model = clone(estimator)\n",
        "\n",
        "        #define train set\n",
        "        X_train = X.iloc[train_idx]\n",
        "        y_train = y.iloc[train_idx]\n",
        "\n",
        "        #define validation set\n",
        "        X_val = X.iloc[val_idx]\n",
        "        y_val = y.iloc[val_idx]\n",
        "\n",
        "        if include_original:\n",
        "            X_train = pd.concat([X_train, data.drop('Hardness', axis = 1)]).reset_index(drop = True)\n",
        "            y_train = pd.concat([y_train, data.Hardness]).reset_index(drop = True)\n",
        "\n",
        "        #remove duplicates\n",
        "        if no_duplicate:\n",
        "            nonduplicated_index = ~pd.concat([X_train, y_train], axis = 1).duplicated()\n",
        "\n",
        "            y_train = y_train[nonduplicated_index]\n",
        "            X_train = X_train[nonduplicated_index]\n",
        "\n",
        "        #train model\n",
        "        model.fit(X_train, y_train)\n",
        "\n",
        "        #make predictions\n",
        "        train_preds = model.predict(X_train)\n",
        "        val_preds = model.predict(X_val)\n",
        "\n",
        "        val_predictions[val_idx] += val_preds\n",
        "\n",
        "        #evaluate model for a fold\n",
        "        train_score = median_absolute_error(y_train, train_preds)\n",
        "        val_score = median_absolute_error(y_val, val_preds)\n",
        "\n",
        "        #append model score for a fold to list\n",
        "        train_scores.append(train_score)\n",
        "        val_scores.append(val_score)\n",
        "\n",
        "    print(f'Val Score: {np.mean(val_scores):.5f} ± {np.std(val_scores):.5f} | Train Score: {np.mean(train_scores):.5f} ± {np.std(train_scores):.5f} | {label}')\n",
        "\n",
        "    return val_scores, val_predictions"
      ],
      "metadata": {
        "execution": {
          "iopub.status.busy": "2024-02-02T10:22:06.816225Z",
          "iopub.execute_input": "2024-02-02T10:22:06.816591Z",
          "iopub.status.idle": "2024-02-02T10:22:06.832217Z",
          "shell.execute_reply.started": "2024-02-02T10:22:06.81656Z",
          "shell.execute_reply": "2024-02-02T10:22:06.831039Z"
        },
        "trusted": true,
        "id": "fl19EnkYUP9q"
      },
      "execution_count": null,
      "outputs": []
    },
    {
      "cell_type": "markdown",
      "source": [
        "# **Model Evaluation**"
      ],
      "metadata": {
        "id": "FqLiqTD9UP9r"
      }
    },
    {
      "cell_type": "code",
      "source": [
        "score_list, oof_list = pd.DataFrame(), pd.DataFrame()\n",
        "\n",
        "models = [\n",
        "    ('xgb_mae', XGBRegressor(random_state = seed, objective = 'reg:absoluteerror')),\n",
        "    ('xgb_quant', XGBRegressor(random_state = seed, objective = 'reg:quantileerror', quantile_alpha = .5)),\n",
        "    ('lgb_mae', LGBMRegressor(random_state = seed, objective = 'mae')),\n",
        "    ('lgb_quant', LGBMRegressor(random_state = seed, objective = 'quantile', alpha = .5)),\n",
        "    ('cb_mae', CatBoostRegressor(random_state = seed, verbose = 0, objective = 'MAE')),\n",
        "    ('cb_quant', CatBoostRegressor(random_state = seed, verbose = 0, objective = 'Quantile:alpha=0.5')),\n",
        "    ('gb', GradientBoostingRegressor(random_state = seed, loss = 'absolute_error')),\n",
        "    ('hgb', HistGradientBoostingRegressor(random_state = seed, loss = 'absolute_error'))\n",
        "]"
      ],
      "metadata": {
        "execution": {
          "iopub.status.busy": "2024-02-02T10:22:06.83346Z",
          "iopub.execute_input": "2024-02-02T10:22:06.833777Z",
          "iopub.status.idle": "2024-02-02T10:22:06.847544Z",
          "shell.execute_reply.started": "2024-02-02T10:22:06.833749Z",
          "shell.execute_reply": "2024-02-02T10:22:06.846382Z"
        },
        "trusted": true,
        "id": "LOrB6XECUP9r"
      },
      "execution_count": null,
      "outputs": []
    },
    {
      "cell_type": "code",
      "source": [
        "for (label, model) in models:\n",
        "    score_list[label], oof_list[label] = cross_val_score(\n",
        "        model,\n",
        "        label=label,\n",
        "        include_original=False,  # Do not include original features from 'data' in X_train\n",
        "        no_duplicate=False  # You can set this to True or False based on your needs\n",
        "    )"
      ],
      "metadata": {
        "execution": {
          "iopub.status.busy": "2024-02-02T10:22:06.848871Z",
          "iopub.execute_input": "2024-02-02T10:22:06.849208Z",
          "iopub.status.idle": "2024-02-02T10:23:08.489546Z",
          "shell.execute_reply.started": "2024-02-02T10:22:06.849173Z",
          "shell.execute_reply": "2024-02-02T10:23:08.488473Z"
        },
        "trusted": true,
        "id": "cbZlw6gZUP9r"
      },
      "execution_count": null,
      "outputs": []
    },
    {
      "cell_type": "code",
      "source": [
        "plt.figure(figsize=(8, 8), dpi=300)\n",
        "average_scores = score_list.mean()\n",
        "\n",
        "# Use a gradient of colors from the Viridis colormap\n",
        "colors = plt.cm.viridis(np.linspace(0, 1, len(average_scores)))\n",
        "\n",
        "plt.pie(average_scores, labels=average_scores.index, autopct='%1.1f%%', startangle=140, colors=colors)\n",
        "plt.title('Score Comparison', weight='bold', size=20)\n",
        "plt.show()"
      ],
      "metadata": {
        "execution": {
          "iopub.status.busy": "2024-02-02T10:23:08.491093Z",
          "iopub.execute_input": "2024-02-02T10:23:08.491419Z",
          "iopub.status.idle": "2024-02-02T10:23:09.035531Z",
          "shell.execute_reply.started": "2024-02-02T10:23:08.491389Z",
          "shell.execute_reply": "2024-02-02T10:23:09.034396Z"
        },
        "trusted": true,
        "id": "ZNt-0vI9UP9s"
      },
      "execution_count": null,
      "outputs": []
    },
    {
      "cell_type": "markdown",
      "source": [
        "# **Ensemble**"
      ],
      "metadata": {
        "id": "egSBfiv7UP9s"
      }
    },
    {
      "cell_type": "code",
      "source": [
        "weights = LADRegression().fit(oof_list, train.Hardness).coef_\n",
        "pd.DataFrame(weights, index = oof_list.columns, columns = ['weight per model'])"
      ],
      "metadata": {
        "execution": {
          "iopub.status.busy": "2024-02-02T10:23:09.036717Z",
          "iopub.execute_input": "2024-02-02T10:23:09.037088Z",
          "iopub.status.idle": "2024-02-02T10:23:09.452354Z",
          "shell.execute_reply.started": "2024-02-02T10:23:09.037057Z",
          "shell.execute_reply": "2024-02-02T10:23:09.449712Z"
        },
        "trusted": true,
        "id": "jYyIOigEUP9t"
      },
      "execution_count": null,
      "outputs": []
    },
    {
      "cell_type": "code",
      "source": [
        "voter = VotingRegressor(models, weights = weights)\n",
        "_ = cross_val_score(voter)"
      ],
      "metadata": {
        "execution": {
          "iopub.status.busy": "2024-02-02T10:23:09.456109Z",
          "iopub.execute_input": "2024-02-02T10:23:09.456597Z",
          "iopub.status.idle": "2024-02-02T10:24:13.444309Z",
          "shell.execute_reply.started": "2024-02-02T10:23:09.456558Z",
          "shell.execute_reply": "2024-02-02T10:24:13.442974Z"
        },
        "trusted": true,
        "id": "1VJWqTOBUP9t"
      },
      "execution_count": null,
      "outputs": []
    },
    {
      "cell_type": "markdown",
      "source": [
        "# **Prediction**"
      ],
      "metadata": {
        "id": "Rm_bWMMpUP9t"
      }
    },
    {
      "cell_type": "code",
      "source": [
        "model = clone(voter)\n",
        "\n",
        "model.fit(X, y)\n",
        "prediction = model.predict(test)"
      ],
      "metadata": {
        "execution": {
          "iopub.status.busy": "2024-02-02T10:24:13.446649Z",
          "iopub.execute_input": "2024-02-02T10:24:13.447169Z",
          "iopub.status.idle": "2024-02-02T10:24:27.303321Z",
          "shell.execute_reply.started": "2024-02-02T10:24:13.447121Z",
          "shell.execute_reply": "2024-02-02T10:24:27.302197Z"
        },
        "trusted": true,
        "id": "0A5lodutUP9u"
      },
      "execution_count": null,
      "outputs": []
    },
    {
      "cell_type": "markdown",
      "source": [
        "# **Submission**"
      ],
      "metadata": {
        "id": "1Yf-0lM1UP9u"
      }
    },
    {
      "cell_type": "code",
      "source": [
        "submission = test.copy()\n",
        "submission['Hardness'] = model.predict(submission)\n",
        "\n",
        "submission.Hardness.to_csv('submission.csv')"
      ],
      "metadata": {
        "execution": {
          "iopub.status.busy": "2024-02-02T10:56:56.694381Z",
          "iopub.execute_input": "2024-02-02T10:56:56.694815Z",
          "iopub.status.idle": "2024-02-02T10:56:56.995003Z",
          "shell.execute_reply.started": "2024-02-02T10:56:56.694781Z",
          "shell.execute_reply": "2024-02-02T10:56:56.993804Z"
        },
        "trusted": true,
        "id": "fIG_173rUP9v"
      },
      "execution_count": null,
      "outputs": []
    },
    {
      "cell_type": "code",
      "source": [
        "submission.head()"
      ],
      "metadata": {
        "execution": {
          "iopub.status.busy": "2024-02-02T10:58:12.578697Z",
          "iopub.execute_input": "2024-02-02T10:58:12.579166Z",
          "iopub.status.idle": "2024-02-02T10:58:12.600595Z",
          "shell.execute_reply.started": "2024-02-02T10:58:12.579133Z",
          "shell.execute_reply": "2024-02-02T10:58:12.599418Z"
        },
        "trusted": true,
        "id": "GAxrcfkyUP9v"
      },
      "execution_count": null,
      "outputs": []
    }
  ]
}